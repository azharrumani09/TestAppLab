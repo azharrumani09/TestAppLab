{
 "cells": [
  {
   "cell_type": "code",
   "execution_count": 0,
   "metadata": {
    "application/vnd.databricks.v1+cell": {
     "cellMetadata": {
      "byteLimit": 2048000,
      "rowLimit": 10000
     },
     "inputWidgets": {},
     "nuid": "bbc91417-d3b9-4f49-b7f3-9eb1930dbf1f",
     "showTitle": true,
     "tableResultSettingsMap": {},
     "title": "Product"
    }
   },
   "outputs": [
    {
     "output_type": "stream",
     "name": "stdout",
     "output_type": "stream",
     "text": [
      "+---------+-------------------+---------------+\n|ProductID|        ProductName|       Category|\n+---------+-------------------+---------------+\n|      P50|     Wireless Mouse|    Electronics|\n|      P72|    Laptop Backpack|    Accessories|\n|      P99|            USB Hub|    Electronics|\n|      P12|Notebook Stationery|Office Supplies|\n|      P88|      Monitor Stand|Office Supplies|\n|      P77|   Portable Speaker|    Electronics|\n|      P45| Smartphone Charger|    Electronics|\n|      P11|            Pen Set|Office Supplies|\n|      P66|  Wireless Keyboard|    Electronics|\n|      P23|       Laptop Stand|    Accessories|\n+---------+-------------------+---------------+\n\n"
     ]
    }
   ],
   "source": [
    "# Replace with your actual file path in DBFS or mounted volume\n",
    "file_path_product = \"dbfs:/Volumes/workspace/default/test/product_reference 2.csv\"\n",
    "\n",
    "# Read CSV file into a DataFrame\n",
    "df_product = spark.read.format(\"csv\") \\\n",
    "    .option(\"header\", \"true\")\\\n",
    "    .option(\"inferSchema\", \"true\") \\\n",
    "    .load(file_path_product)\n",
    "\n",
    "# Display the DataFrame\n",
    "df_product.show()\n"
   ]
  },
  {
   "cell_type": "code",
   "execution_count": 0,
   "metadata": {
    "application/vnd.databricks.v1+cell": {
     "cellMetadata": {
      "byteLimit": 2048000,
      "rowLimit": 10000
     },
     "inputWidgets": {},
     "nuid": "88723595-9ac3-48df-91a1-5b9bab689c18",
     "showTitle": true,
     "tableResultSettingsMap": {},
     "title": "Sales"
    }
   },
   "outputs": [
    {
     "output_type": "display_data",
     "data": {
      "text/html": [
       "<style scoped>\n",
       "  .table-result-container {\n",
       "    max-height: 300px;\n",
       "    overflow: auto;\n",
       "  }\n",
       "  table, th, td {\n",
       "    border: 1px solid black;\n",
       "    border-collapse: collapse;\n",
       "  }\n",
       "  th, td {\n",
       "    padding: 5px;\n",
       "  }\n",
       "  th {\n",
       "    text-align: left;\n",
       "  }\n",
       "</style><div class='table-result-container'><table class='table-result'><thead style='background-color: white'><tr><th>OrderID</th><th>ProductID</th><th>SaleAmount</th><th>OrderDate</th><th>Region</th><th>CustomerID</th><th>Discount</th><th>Currency</th></tr></thead><tbody><tr><td>1001</td><td>P50</td><td>299.99</td><td>01/05/2023</td><td>East</td><td>C100</td><td>0.1</td><td>USD</td></tr><tr><td>1002</td><td>P72</td><td>null</td><td>01/05/2023</td><td>West</td><td>C101</td><td>null</td><td>EUR</td></tr><tr><td>1003</td><td>P50</td><td>-10.0</td><td>01-06-2023</td><td>East</td><td>C100</td><td>0.05</td><td>GBP</td></tr><tr><td>1001</td><td>P50</td><td>299.99</td><td>01/05/2023</td><td>East</td><td>C100</td><td>0.1</td><td>USD</td></tr><tr><td>1004</td><td>P99</td><td>150.0</td><td>null</td><td>South</td><td>C102</td><td>0.2</td><td>USD</td></tr><tr><td>1005</td><td>PX1</td><td>89.5</td><td>01/07/2023</td><td>North</td><td>null</td><td>0.0</td><td>USD</td></tr><tr><td>1006</td><td>P72</td><td>200.0</td><td>2023-13-01</td><td>West</td><td>C101</td><td>0.15</td><td>EUR</td></tr><tr><td>1007</td><td>P12</td><td>120.0</td><td>01/05/2023</td><td>East</td><td>C105</td><td>0.1</td><td>GBP</td></tr><tr><td>1008</td><td>P88</td><td>300.0</td><td>02/05/2023</td><td>North</td><td>C106</td><td>0.0</td><td>USD</td></tr><tr><td>1009</td><td>P77</td><td>0.0</td><td>03/05/2023</td><td>South</td><td>C107</td><td>null</td><td>USD</td></tr><tr><td>1010</td><td>P45</td><td>450.0</td><td>05/05/2023</td><td>West</td><td>C108</td><td>0.05</td><td>USD</td></tr><tr><td>1011</td><td>P11</td><td>250.0</td><td>01/06/2023</td><td>North</td><td>C109</td><td>0.15</td><td>USD</td></tr><tr><td>1012</td><td>P66</td><td>210.0</td><td>02/06/2023</td><td>East</td><td>C110</td><td>null</td><td>GBP</td></tr><tr><td>1013</td><td>P72</td><td>175.5</td><td>03/06/2023</td><td>West</td><td>C111</td><td>0.1</td><td>EUR</td></tr><tr><td>1014</td><td>P23</td><td>0.0</td><td>01/07/2023</td><td>East</td><td>C112</td><td>0.0</td><td>EUR</td></tr><tr><td>1015</td><td>P99</td><td>-25.0</td><td>05/07/2023</td><td>South</td><td>C113</td><td>0.2</td><td>USD</td></tr><tr><td>1016</td><td>P88</td><td>300.0</td><td>06/07/2023</td><td>North</td><td>C114</td><td>0.1</td><td>USD</td></tr><tr><td>1017</td><td>P50</td><td>215.0</td><td>07/07/2023</td><td>East</td><td>C115</td><td>0.0</td><td>GBP</td></tr><tr><td>1018</td><td>P23</td><td>105.0</td><td>08/07/2023</td><td>South</td><td>C116</td><td>0.05</td><td>EUR</td></tr><tr><td>1019</td><td>P72</td><td>140.0</td><td>09/07/2023</td><td>West</td><td>C117</td><td>0.15</td><td>USD</td></tr></tbody></table></div>"
      ]
     },
     "metadata": {
      "application/vnd.databricks.v1+output": {
       "addedWidgets": {},
       "aggData": [],
       "aggError": "",
       "aggOverflow": false,
       "aggSchema": [],
       "aggSeriesLimitReached": false,
       "aggType": "",
       "arguments": {},
       "columnCustomDisplayInfos": {},
       "data": [
        [
         1001,
         "P50",
         299.99,
         "01/05/2023",
         "East",
         "C100",
         0.1,
         "USD"
        ],
        [
         1002,
         "P72",
         null,
         "01/05/2023",
         "West",
         "C101",
         null,
         "EUR"
        ],
        [
         1003,
         "P50",
         -10.0,
         "01-06-2023",
         "East",
         "C100",
         0.05,
         "GBP"
        ],
        [
         1001,
         "P50",
         299.99,
         "01/05/2023",
         "East",
         "C100",
         0.1,
         "USD"
        ],
        [
         1004,
         "P99",
         150.0,
         null,
         "South",
         "C102",
         0.2,
         "USD"
        ],
        [
         1005,
         "PX1",
         89.5,
         "01/07/2023",
         "North",
         null,
         0.0,
         "USD"
        ],
        [
         1006,
         "P72",
         200.0,
         "2023-13-01",
         "West",
         "C101",
         0.15,
         "EUR"
        ],
        [
         1007,
         "P12",
         120.0,
         "01/05/2023",
         "East",
         "C105",
         0.1,
         "GBP"
        ],
        [
         1008,
         "P88",
         300.0,
         "02/05/2023",
         "North",
         "C106",
         0.0,
         "USD"
        ],
        [
         1009,
         "P77",
         0.0,
         "03/05/2023",
         "South",
         "C107",
         null,
         "USD"
        ],
        [
         1010,
         "P45",
         450.0,
         "05/05/2023",
         "West",
         "C108",
         0.05,
         "USD"
        ],
        [
         1011,
         "P11",
         250.0,
         "01/06/2023",
         "North",
         "C109",
         0.15,
         "USD"
        ],
        [
         1012,
         "P66",
         210.0,
         "02/06/2023",
         "East",
         "C110",
         null,
         "GBP"
        ],
        [
         1013,
         "P72",
         175.5,
         "03/06/2023",
         "West",
         "C111",
         0.1,
         "EUR"
        ],
        [
         1014,
         "P23",
         0.0,
         "01/07/2023",
         "East",
         "C112",
         0.0,
         "EUR"
        ],
        [
         1015,
         "P99",
         -25.0,
         "05/07/2023",
         "South",
         "C113",
         0.2,
         "USD"
        ],
        [
         1016,
         "P88",
         300.0,
         "06/07/2023",
         "North",
         "C114",
         0.1,
         "USD"
        ],
        [
         1017,
         "P50",
         215.0,
         "07/07/2023",
         "East",
         "C115",
         0.0,
         "GBP"
        ],
        [
         1018,
         "P23",
         105.0,
         "08/07/2023",
         "South",
         "C116",
         0.05,
         "EUR"
        ],
        [
         1019,
         "P72",
         140.0,
         "09/07/2023",
         "West",
         "C117",
         0.15,
         "USD"
        ]
       ],
       "datasetInfos": [],
       "dbfsResultPath": null,
       "isJsonSchema": true,
       "metadata": {},
       "overflow": false,
       "plotOptions": {
        "customPlotOptions": {},
        "displayType": "table",
        "pivotAggregation": null,
        "pivotColumns": null,
        "xColumns": null,
        "yColumns": null
       },
       "removedWidgets": [],
       "schema": [
        {
         "metadata": "{}",
         "name": "OrderID",
         "type": "\"integer\""
        },
        {
         "metadata": "{}",
         "name": "ProductID",
         "type": "\"string\""
        },
        {
         "metadata": "{}",
         "name": "SaleAmount",
         "type": "\"double\""
        },
        {
         "metadata": "{}",
         "name": "OrderDate",
         "type": "\"string\""
        },
        {
         "metadata": "{}",
         "name": "Region",
         "type": "\"string\""
        },
        {
         "metadata": "{}",
         "name": "CustomerID",
         "type": "\"string\""
        },
        {
         "metadata": "{}",
         "name": "Discount",
         "type": "\"double\""
        },
        {
         "metadata": "{}",
         "name": "Currency",
         "type": "\"string\""
        }
       ],
       "type": "table"
      }
     },
     "output_type": "display_data"
    }
   ],
   "source": [
    "# Replace with your actual file path in DBFS or mounted volume\n",
    "file_path_sales = \"dbfs:/Volumes/workspace/default/test/sales_data 2.csv\"\n",
    "\n",
    "# Read CSV file into a DataFrame\n",
    "df_sales = spark.read.format(\"csv\") \\\n",
    "    .option(\"header\", \"true\")\\\n",
    "    .option(\"inferSchema\", \"true\") \\\n",
    "    .load(file_path_sales)\n",
    "\n",
    "# Display the DataFrame\n",
    "df_sales.display()\n"
   ]
  },
  {
   "cell_type": "code",
   "execution_count": 0,
   "metadata": {
    "application/vnd.databricks.v1+cell": {
     "cellMetadata": {
      "byteLimit": 2048000,
      "rowLimit": 10000
     },
     "inputWidgets": {},
     "nuid": "05961e17-427c-47bb-8e19-d07e760fda29",
     "showTitle": true,
     "tableResultSettingsMap": {},
     "title": "API"
    }
   },
   "outputs": [
    {
     "output_type": "stream",
     "name": "stdout",
     "output_type": "stream",
     "text": [
      "+------------+----------+--------------+------------+\n|BaseCurrency|      Date|TargetCurrency|ExchangeRate|\n+------------+----------+--------------+------------+\n|         EUR|2025-07-26|           USD|        1.17|\n|         USD|2025-07-26|           USD|         1.0|\n|         GBP|2025-07-26|           USD|        1.34|\n+------------+----------+--------------+------------+\n\n+------------+---------+------------+---------+\n|BaseCurrency|ErrorType|ErrorMessage|Timestamp|\n+------------+---------+------------+---------+\n+------------+---------+------------+---------+\n\n"
     ]
    }
   ],
   "source": [
    "from datetime import datetime\n",
    "from pyspark.sql import SparkSession\n",
    "from pyspark.sql.types import StructType, StructField, StringType, DoubleType, TimestampType\n",
    "from pyspark.sql import Row\n",
    "import requests\n",
    "\n",
    "# Create Spark session\n",
    "spark = SparkSession.builder.getOrCreate()\n",
    "\n",
    "# Define base currencies and fallback exchange rates to USD\n",
    "base_currencies = [\"EUR\", \"USD\", \"GBP\"]\n",
    "fallback_rates = {\n",
    "    \"EUR\": 1.1,\n",
    "    \"USD\": 1.0,\n",
    "    \"GBP\": 1.3\n",
    "}\n",
    "\n",
    "# Prepare lists for exchange rates and error logs\n",
    "all_rates = []\n",
    "error_logs = []\n",
    "\n",
    "# Function to fetch live exchange rate from an API\n",
    "def fetch_live_rate(base_currency):\n",
    "    # url = f\"https://api.exchangerate.host/latest?base={base_currency}&symbols=USD\"\n",
    "    url = f\"https://api.exchangerate-api.com/v4/latest/{base_currency}\"\n",
    "    response = requests.get(url, timeout=5)\n",
    "    response.raise_for_status()\n",
    "    data = response.json()\n",
    "    return data[\"rates\"][\"USD\"], data[\"date\"]\n",
    "\n",
    "# Fetch exchange rates with fallback and error logging\n",
    "for base in base_currencies:\n",
    "    timestamp = datetime.now()\n",
    "    try:\n",
    "        rate, date = fetch_live_rate(base)\n",
    "    except Exception as e:\n",
    "        rate = fallback_rates[base]\n",
    "        date = \"fallback\"\n",
    "        error_type = type(e).__name__\n",
    "        error_message = str(e)\n",
    "\n",
    "        # Log error details\n",
    "        error_logs.append(Row(\n",
    "            BaseCurrency=base,\n",
    "            ErrorType=error_type,\n",
    "            ErrorMessage=error_message,\n",
    "            Timestamp=timestamp\n",
    "        ))\n",
    "\n",
    "    # Log exchange rate\n",
    "    all_rates.append(Row(\n",
    "        BaseCurrency=base,\n",
    "        Date=date,\n",
    "        TargetCurrency=\"USD\",\n",
    "        ExchangeRate=rate\n",
    "    ))\n",
    "\n",
    "# Define schemas\n",
    "schema_rates = StructType([\n",
    "    StructField(\"BaseCurrency\", StringType(), True),\n",
    "    StructField(\"Date\", StringType(), True),\n",
    "    StructField(\"TargetCurrency\", StringType(), True),\n",
    "    StructField(\"ExchangeRate\", DoubleType(), True)\n",
    "])\n",
    "\n",
    "schema_errors = StructType([\n",
    "    StructField(\"BaseCurrency\", StringType(), True),\n",
    "    StructField(\"ErrorType\", StringType(), True),\n",
    "    StructField(\"ErrorMessage\", StringType(), True),\n",
    "    StructField(\"Timestamp\", TimestampType(), True)\n",
    "])\n",
    "\n",
    "# Create DataFrames\n",
    "df_usd_rates = spark.createDataFrame(all_rates, schema_rates)\n",
    "df_error_logs = spark.createDataFrame(error_logs, schema_errors)\n",
    "\n",
    "# Display results\n",
    "df_usd_rates.show()\n",
    "df_error_logs.show()\n"
   ]
  },
  {
   "cell_type": "code",
   "execution_count": 0,
   "metadata": {
    "application/vnd.databricks.v1+cell": {
     "cellMetadata": {
      "byteLimit": 2048000,
      "rowLimit": 10000
     },
     "inputWidgets": {},
     "nuid": "b0e05497-ae3e-469f-8d87-8ec82d85502f",
     "showTitle": true,
     "tableResultSettingsMap": {
      "0": {
       "dataGridStateBlob": "{\"version\":1,\"tableState\":{\"columnPinning\":{\"left\":[\"#row_number#\"],\"right\":[]},\"columnSizing\":{},\"columnVisibility\":{}},\"settings\":{\"columns\":{}},\"syncTimestamp\":1753540448345}",
       "filterBlob": null,
       "queryPlanFiltersBlob": null,
       "tableResultIndex": 0
      }
     },
     "title": "Data Cleanup and Transformation"
    }
   },
   "outputs": [
    {
     "output_type": "display_data",
     "data": {
      "text/html": [
       "<style scoped>\n",
       "  .table-result-container {\n",
       "    max-height: 300px;\n",
       "    overflow: auto;\n",
       "  }\n",
       "  table, th, td {\n",
       "    border: 1px solid black;\n",
       "    border-collapse: collapse;\n",
       "  }\n",
       "  th, td {\n",
       "    padding: 5px;\n",
       "  }\n",
       "  th {\n",
       "    text-align: left;\n",
       "  }\n",
       "</style><div class='table-result-container'><table class='table-result'><thead style='background-color: white'><tr><th>OrderID</th><th>ProductID</th><th>SaleAmount</th><th>OrderDate</th><th>Region</th><th>CustomerID</th><th>Discount</th><th>Currency</th><th>ProductName</th><th>ProductCategory</th><th>BaseCurrency</th><th>ExchangeRate</th><th>SaleAmountUSD</th></tr></thead><tbody><tr><td>1001</td><td>P50</td><td>299.99</td><td>2023-05-01</td><td>East</td><td>C100</td><td>0.1</td><td>USD</td><td>Wireless Mouse</td><td>Electronics</td><td>USD</td><td>1.0</td><td>299.99</td></tr><tr><td>1004</td><td>P99</td><td>150.0</td><td>null</td><td>South</td><td>C102</td><td>0.2</td><td>USD</td><td>USB Hub</td><td>Electronics</td><td>USD</td><td>1.0</td><td>150.0</td></tr><tr><td>1006</td><td>P72</td><td>200.0</td><td>null</td><td>West</td><td>C101</td><td>0.15</td><td>EUR</td><td>Laptop Backpack</td><td>Accessories</td><td>EUR</td><td>1.17</td><td>234.0</td></tr></tbody></table></div>"
      ]
     },
     "metadata": {
      "application/vnd.databricks.v1+output": {
       "addedWidgets": {},
       "aggData": [],
       "aggError": "",
       "aggOverflow": false,
       "aggSchema": [],
       "aggSeriesLimitReached": false,
       "aggType": "",
       "arguments": {},
       "columnCustomDisplayInfos": {},
       "data": [
        [
         1001,
         "P50",
         299.99,
         "2023-05-01",
         "East",
         "C100",
         0.1,
         "USD",
         "Wireless Mouse",
         "Electronics",
         "USD",
         1.0,
         299.99
        ],
        [
         1004,
         "P99",
         150.0,
         null,
         "South",
         "C102",
         0.2,
         "USD",
         "USB Hub",
         "Electronics",
         "USD",
         1.0,
         150.0
        ],
        [
         1006,
         "P72",
         200.0,
         null,
         "West",
         "C101",
         0.15,
         "EUR",
         "Laptop Backpack",
         "Accessories",
         "EUR",
         1.17,
         234.0
        ]
       ],
       "datasetInfos": [],
       "dbfsResultPath": null,
       "isJsonSchema": true,
       "metadata": {},
       "overflow": false,
       "plotOptions": {
        "customPlotOptions": {},
        "displayType": "table",
        "pivotAggregation": null,
        "pivotColumns": null,
        "xColumns": null,
        "yColumns": null
       },
       "removedWidgets": [],
       "schema": [
        {
         "metadata": "{}",
         "name": "OrderID",
         "type": "\"integer\""
        },
        {
         "metadata": "{}",
         "name": "ProductID",
         "type": "\"string\""
        },
        {
         "metadata": "{}",
         "name": "SaleAmount",
         "type": "\"double\""
        },
        {
         "metadata": "{}",
         "name": "OrderDate",
         "type": "\"date\""
        },
        {
         "metadata": "{}",
         "name": "Region",
         "type": "\"string\""
        },
        {
         "metadata": "{}",
         "name": "CustomerID",
         "type": "\"string\""
        },
        {
         "metadata": "{}",
         "name": "Discount",
         "type": "\"double\""
        },
        {
         "metadata": "{}",
         "name": "Currency",
         "type": "\"string\""
        },
        {
         "metadata": "{}",
         "name": "ProductName",
         "type": "\"string\""
        },
        {
         "metadata": "{}",
         "name": "ProductCategory",
         "type": "\"string\""
        },
        {
         "metadata": "{}",
         "name": "BaseCurrency",
         "type": "\"string\""
        },
        {
         "metadata": "{}",
         "name": "ExchangeRate",
         "type": "\"double\""
        },
        {
         "metadata": "{}",
         "name": "SaleAmountUSD",
         "type": "\"double\""
        }
       ],
       "type": "table"
      }
     },
     "output_type": "display_data"
    },
    {
     "output_type": "display_data",
     "data": {
      "text/html": [
       "<style scoped>\n",
       "  .table-result-container {\n",
       "    max-height: 300px;\n",
       "    overflow: auto;\n",
       "  }\n",
       "  table, th, td {\n",
       "    border: 1px solid black;\n",
       "    border-collapse: collapse;\n",
       "  }\n",
       "  th, td {\n",
       "    padding: 5px;\n",
       "  }\n",
       "  th {\n",
       "    text-align: left;\n",
       "  }\n",
       "</style><div class='table-result-container'><table class='table-result'><thead style='background-color: white'><tr><th>OrderID</th><th>ProductID</th><th>SaleAmount</th><th>OrderDate</th><th>Region</th><th>CustomerID</th><th>Discount</th><th>Currency</th><th>ProductName</th><th>ProductCategory</th><th>BaseCurrency</th><th>ExchangeRate</th><th>SaleAmountUSD</th></tr></thead><tbody><tr><td>1002</td><td>P72</td><td>0.0</td><td>2023-05-01</td><td>West</td><td>C101</td><td>null</td><td>EUR</td><td>Laptop Backpack</td><td>Accessories</td><td>EUR</td><td>1.17</td><td>0.0</td></tr><tr><td>1013</td><td>P72</td><td>175.5</td><td>2023-06-03</td><td>West</td><td>C111</td><td>0.1</td><td>EUR</td><td>Laptop Backpack</td><td>Accessories</td><td>EUR</td><td>1.17</td><td>205.33</td></tr><tr><td>1014</td><td>P23</td><td>0.0</td><td>2023-07-01</td><td>East</td><td>C112</td><td>0.0</td><td>EUR</td><td>Laptop Stand</td><td>Accessories</td><td>EUR</td><td>1.17</td><td>0.0</td></tr><tr><td>1018</td><td>P23</td><td>105.0</td><td>2023-07-08</td><td>South</td><td>C116</td><td>0.05</td><td>EUR</td><td>Laptop Stand</td><td>Accessories</td><td>EUR</td><td>1.17</td><td>122.85</td></tr><tr><td>1001</td><td>P50</td><td>299.99</td><td>2023-05-01</td><td>East</td><td>C100</td><td>0.1</td><td>USD</td><td>Wireless Mouse</td><td>Electronics</td><td>USD</td><td>1.0</td><td>299.99</td></tr><tr><td>1005</td><td>PX1</td><td>89.5</td><td>2023-07-01</td><td>North</td><td>null</td><td>0.0</td><td>USD</td><td>null</td><td>null</td><td>USD</td><td>1.0</td><td>89.5</td></tr><tr><td>1008</td><td>P88</td><td>300.0</td><td>2023-05-02</td><td>North</td><td>C106</td><td>0.0</td><td>USD</td><td>Monitor Stand</td><td>Office Supplies</td><td>USD</td><td>1.0</td><td>300.0</td></tr><tr><td>1009</td><td>P77</td><td>0.0</td><td>2023-05-03</td><td>South</td><td>C107</td><td>null</td><td>USD</td><td>Portable Speaker</td><td>Electronics</td><td>USD</td><td>1.0</td><td>0.0</td></tr><tr><td>1010</td><td>P45</td><td>450.0</td><td>2023-05-05</td><td>West</td><td>C108</td><td>0.05</td><td>USD</td><td>Smartphone Charger</td><td>Electronics</td><td>USD</td><td>1.0</td><td>450.0</td></tr><tr><td>1011</td><td>P11</td><td>250.0</td><td>2023-06-01</td><td>North</td><td>C109</td><td>0.15</td><td>USD</td><td>Pen Set</td><td>Office Supplies</td><td>USD</td><td>1.0</td><td>250.0</td></tr><tr><td>1015</td><td>P99</td><td>-25.0</td><td>2023-07-05</td><td>South</td><td>C113</td><td>0.2</td><td>USD</td><td>USB Hub</td><td>Electronics</td><td>USD</td><td>1.0</td><td>-25.0</td></tr><tr><td>1016</td><td>P88</td><td>300.0</td><td>2023-07-06</td><td>North</td><td>C114</td><td>0.1</td><td>USD</td><td>Monitor Stand</td><td>Office Supplies</td><td>USD</td><td>1.0</td><td>300.0</td></tr><tr><td>1019</td><td>P72</td><td>140.0</td><td>2023-07-09</td><td>West</td><td>C117</td><td>0.15</td><td>USD</td><td>Laptop Backpack</td><td>Accessories</td><td>USD</td><td>1.0</td><td>140.0</td></tr><tr><td>1003</td><td>P50</td><td>-10.0</td><td>2023-06-01</td><td>East</td><td>C100</td><td>0.05</td><td>GBP</td><td>Wireless Mouse</td><td>Electronics</td><td>GBP</td><td>1.34</td><td>-13.4</td></tr><tr><td>1007</td><td>P12</td><td>120.0</td><td>2023-05-01</td><td>East</td><td>C105</td><td>0.1</td><td>GBP</td><td>Notebook Stationery</td><td>Office Supplies</td><td>GBP</td><td>1.34</td><td>160.8</td></tr><tr><td>1012</td><td>P66</td><td>210.0</td><td>2023-06-02</td><td>East</td><td>C110</td><td>null</td><td>GBP</td><td>Wireless Keyboard</td><td>Electronics</td><td>GBP</td><td>1.34</td><td>281.4</td></tr><tr><td>1017</td><td>P50</td><td>215.0</td><td>2023-07-07</td><td>East</td><td>C115</td><td>0.0</td><td>GBP</td><td>Wireless Mouse</td><td>Electronics</td><td>GBP</td><td>1.34</td><td>288.1</td></tr></tbody></table></div>"
      ]
     },
     "metadata": {
      "application/vnd.databricks.v1+output": {
       "addedWidgets": {},
       "aggData": [],
       "aggError": "",
       "aggOverflow": false,
       "aggSchema": [],
       "aggSeriesLimitReached": false,
       "aggType": "",
       "arguments": {},
       "columnCustomDisplayInfos": {},
       "data": [
        [
         1002,
         "P72",
         0.0,
         "2023-05-01",
         "West",
         "C101",
         null,
         "EUR",
         "Laptop Backpack",
         "Accessories",
         "EUR",
         1.17,
         0.0
        ],
        [
         1013,
         "P72",
         175.5,
         "2023-06-03",
         "West",
         "C111",
         0.1,
         "EUR",
         "Laptop Backpack",
         "Accessories",
         "EUR",
         1.17,
         205.33
        ],
        [
         1014,
         "P23",
         0.0,
         "2023-07-01",
         "East",
         "C112",
         0.0,
         "EUR",
         "Laptop Stand",
         "Accessories",
         "EUR",
         1.17,
         0.0
        ],
        [
         1018,
         "P23",
         105.0,
         "2023-07-08",
         "South",
         "C116",
         0.05,
         "EUR",
         "Laptop Stand",
         "Accessories",
         "EUR",
         1.17,
         122.85
        ],
        [
         1001,
         "P50",
         299.99,
         "2023-05-01",
         "East",
         "C100",
         0.1,
         "USD",
         "Wireless Mouse",
         "Electronics",
         "USD",
         1.0,
         299.99
        ],
        [
         1005,
         "PX1",
         89.5,
         "2023-07-01",
         "North",
         null,
         0.0,
         "USD",
         null,
         null,
         "USD",
         1.0,
         89.5
        ],
        [
         1008,
         "P88",
         300.0,
         "2023-05-02",
         "North",
         "C106",
         0.0,
         "USD",
         "Monitor Stand",
         "Office Supplies",
         "USD",
         1.0,
         300.0
        ],
        [
         1009,
         "P77",
         0.0,
         "2023-05-03",
         "South",
         "C107",
         null,
         "USD",
         "Portable Speaker",
         "Electronics",
         "USD",
         1.0,
         0.0
        ],
        [
         1010,
         "P45",
         450.0,
         "2023-05-05",
         "West",
         "C108",
         0.05,
         "USD",
         "Smartphone Charger",
         "Electronics",
         "USD",
         1.0,
         450.0
        ],
        [
         1011,
         "P11",
         250.0,
         "2023-06-01",
         "North",
         "C109",
         0.15,
         "USD",
         "Pen Set",
         "Office Supplies",
         "USD",
         1.0,
         250.0
        ],
        [
         1015,
         "P99",
         -25.0,
         "2023-07-05",
         "South",
         "C113",
         0.2,
         "USD",
         "USB Hub",
         "Electronics",
         "USD",
         1.0,
         -25.0
        ],
        [
         1016,
         "P88",
         300.0,
         "2023-07-06",
         "North",
         "C114",
         0.1,
         "USD",
         "Monitor Stand",
         "Office Supplies",
         "USD",
         1.0,
         300.0
        ],
        [
         1019,
         "P72",
         140.0,
         "2023-07-09",
         "West",
         "C117",
         0.15,
         "USD",
         "Laptop Backpack",
         "Accessories",
         "USD",
         1.0,
         140.0
        ],
        [
         1003,
         "P50",
         -10.0,
         "2023-06-01",
         "East",
         "C100",
         0.05,
         "GBP",
         "Wireless Mouse",
         "Electronics",
         "GBP",
         1.34,
         -13.4
        ],
        [
         1007,
         "P12",
         120.0,
         "2023-05-01",
         "East",
         "C105",
         0.1,
         "GBP",
         "Notebook Stationery",
         "Office Supplies",
         "GBP",
         1.34,
         160.8
        ],
        [
         1012,
         "P66",
         210.0,
         "2023-06-02",
         "East",
         "C110",
         null,
         "GBP",
         "Wireless Keyboard",
         "Electronics",
         "GBP",
         1.34,
         281.4
        ],
        [
         1017,
         "P50",
         215.0,
         "2023-07-07",
         "East",
         "C115",
         0.0,
         "GBP",
         "Wireless Mouse",
         "Electronics",
         "GBP",
         1.34,
         288.1
        ]
       ],
       "datasetInfos": [],
       "dbfsResultPath": null,
       "isJsonSchema": true,
       "metadata": {},
       "overflow": false,
       "plotOptions": {
        "customPlotOptions": {},
        "displayType": "table",
        "pivotAggregation": null,
        "pivotColumns": null,
        "xColumns": null,
        "yColumns": null
       },
       "removedWidgets": [],
       "schema": [
        {
         "metadata": "{}",
         "name": "OrderID",
         "type": "\"integer\""
        },
        {
         "metadata": "{}",
         "name": "ProductID",
         "type": "\"string\""
        },
        {
         "metadata": "{}",
         "name": "SaleAmount",
         "type": "\"double\""
        },
        {
         "metadata": "{}",
         "name": "OrderDate",
         "type": "\"date\""
        },
        {
         "metadata": "{}",
         "name": "Region",
         "type": "\"string\""
        },
        {
         "metadata": "{}",
         "name": "CustomerID",
         "type": "\"string\""
        },
        {
         "metadata": "{}",
         "name": "Discount",
         "type": "\"double\""
        },
        {
         "metadata": "{}",
         "name": "Currency",
         "type": "\"string\""
        },
        {
         "metadata": "{}",
         "name": "ProductName",
         "type": "\"string\""
        },
        {
         "metadata": "{}",
         "name": "ProductCategory",
         "type": "\"string\""
        },
        {
         "metadata": "{}",
         "name": "BaseCurrency",
         "type": "\"string\""
        },
        {
         "metadata": "{}",
         "name": "ExchangeRate",
         "type": "\"double\""
        },
        {
         "metadata": "{}",
         "name": "SaleAmountUSD",
         "type": "\"double\""
        }
       ],
       "type": "table"
      }
     },
     "output_type": "display_data"
    }
   ],
   "source": [
    "from pyspark.sql.functions import col, round, row_number, to_date ,regexp_replace, expr, regexp_extract, when\n",
    "from pyspark.sql.window import Window\n",
    "\n",
    "# Replace null SaleAmount with 0\n",
    "df_sales = df_sales.fillna({\"SaleAmount\": 0})\n",
    "\n",
    "# Join with product reference data to get ProductName and ProductCategory\n",
    "df_sales_lookup = df_sales.join(\n",
    "    df_product,\n",
    "    on=\"ProductID\",\n",
    "    how=\"left\"\n",
    ").withColumnRenamed(\"Category\", \"ProductCategory\")\\\n",
    ".withColumn(\"OrderDate\",regexp_replace(col(\"OrderDate\"), \"/\", \"-\"))\\\n",
    ".withColumn(\n",
    "    \"OrderDate\",\n",
    "    when(\n",
    "        regexp_extract(col(\"OrderDate\"), r\"^\\d{2}-\\d{2}-\\d{4}$\", 0) != \"\",\n",
    "        to_date(col(\"OrderDate\"), \"dd-MM-yyyy\")\n",
    "    ).otherwise(None)\n",
    ")\\\n",
    ".select(\"OrderID\",\"ProductID\",\"SaleAmount\",\"OrderDate\",\"Region\",\"CustomerID\",\"Discount\",\"Currency\",\"ProductName\",\"ProductCategory\")\n",
    "\n",
    "# Join sales with exchange rates\n",
    "df_sales_converted = df_sales_lookup.join(\n",
    "    df_usd_rates,\n",
    "    col(\"Currency\") == col(\"BaseCurrency\"),\n",
    "    how=\"left\"\n",
    ").withColumn(\n",
    "    \"SaleAmountUSD\",\n",
    "    round(col(\"SaleAmount\") * col(\"ExchangeRate\"), 2)\n",
    ").select(\"OrderID\",\"ProductID\",\"SaleAmount\",\"OrderDate\",\"Region\",\"CustomerID\",\"Discount\",\"Currency\",\"ProductName\",\"ProductCategory\",\"BaseCurrency\",\"ExchangeRate\",\"SaleAmountUSD\")\n",
    "\n",
    "\n",
    "# # Define columns to check for duplicates\n",
    "dedup_columns = [\"OrderID\",\"ProductID\",\"SaleAmount\",\"OrderDate\",\"Region\",\"CustomerID\",\"Discount\",\"Currency\",\"ProductName\",\"ProductCategory\",\"BaseCurrency\",\"ExchangeRate\",\"SaleAmountUSD\"]\n",
    "\n",
    "# Identify duplicates\n",
    "window_spec = Window.partitionBy(*dedup_columns).orderBy(\"OrderID\")\n",
    "df_with_row_num = df_sales_converted.withColumn(\"row_num\", row_number().over(window_spec))\n",
    "\n",
    "df_sales_rejected = df_with_row_num.filter((col(\"row_num\") > 1) | (col(\"OrderDate\").isNull())).drop(\"row_num\")\n",
    "\n",
    "df_sales_rejected.display()\n",
    "\n",
    "# Drop duplicates from main DataFrame\n",
    "df_sales_cleaned = df_sales_converted.dropDuplicates(dedup_columns).filter(col(\"OrderDate\").isNotNull())\n",
    "\n",
    "# Display cleaned data\n",
    "display(df_sales_cleaned.select(*dedup_columns))\n"
   ]
  },
  {
   "cell_type": "code",
   "execution_count": 0,
   "metadata": {
    "application/vnd.databricks.v1+cell": {
     "cellMetadata": {
      "byteLimit": 2048000,
      "implicitDf": true,
      "rowLimit": 10000
     },
     "collapsed": true,
     "inputWidgets": {},
     "nuid": "e1f0a29d-4a3a-4521-8a05-94b5f2454321",
     "showTitle": true,
     "tableResultSettingsMap": {},
     "title": "Create Schema"
    }
   },
   "outputs": [],
   "source": [
    "%sql\n",
    "CREATE SCHEMA IF NOT EXISTS main.sales_data;\n"
   ]
  },
  {
   "cell_type": "code",
   "execution_count": 0,
   "metadata": {
    "application/vnd.databricks.v1+cell": {
     "cellMetadata": {
      "byteLimit": 2048000,
      "rowLimit": 10000
     },
     "inputWidgets": {},
     "nuid": "551bb138-201d-433e-b211-2f11d0057719",
     "showTitle": true,
     "tableResultSettingsMap": {},
     "title": "Write sales_cleaned data"
    }
   },
   "outputs": [],
   "source": [
    "\n",
    "df_sales_cleaned.write.format(\"delta\") \\\n",
    "    .mode(\"overwrite\") \\\n",
    "    .saveAsTable(\"main.sales_data.sales_cleaned\")\n"
   ]
  },
  {
   "cell_type": "code",
   "execution_count": 0,
   "metadata": {
    "application/vnd.databricks.v1+cell": {
     "cellMetadata": {
      "byteLimit": 2048000,
      "rowLimit": 10000
     },
     "inputWidgets": {},
     "nuid": "361838d0-4fee-4ac8-80a5-a306751ddf98",
     "showTitle": true,
     "tableResultSettingsMap": {},
     "title": "Write sales_rejected data"
    }
   },
   "outputs": [],
   "source": [
    "df_sales_rejected.write.format(\"delta\") \\\n",
    "    .mode(\"overwrite\") \\\n",
    "    .saveAsTable(\"main.sales_data.sales_rejected\")"
   ]
  },
  {
   "cell_type": "code",
   "execution_count": 0,
   "metadata": {
    "application/vnd.databricks.v1+cell": {
     "cellMetadata": {
      "byteLimit": 2048000,
      "implicitDf": true,
      "rowLimit": 10000
     },
     "inputWidgets": {},
     "nuid": "af2fd30a-75fe-4a1e-856b-f47c94942783",
     "showTitle": false,
     "tableResultSettingsMap": {},
     "title": ""
    }
   },
   "outputs": [
    {
     "output_type": "display_data",
     "data": {
      "text/html": [
       "<style scoped>\n",
       "  .table-result-container {\n",
       "    max-height: 300px;\n",
       "    overflow: auto;\n",
       "  }\n",
       "  table, th, td {\n",
       "    border: 1px solid black;\n",
       "    border-collapse: collapse;\n",
       "  }\n",
       "  th, td {\n",
       "    padding: 5px;\n",
       "  }\n",
       "  th {\n",
       "    text-align: left;\n",
       "  }\n",
       "</style><div class='table-result-container'><table class='table-result'><thead style='background-color: white'><tr><th>OrderID</th><th>ProductID</th><th>SaleAmount</th><th>OrderDate</th><th>Region</th><th>CustomerID</th><th>Discount</th><th>Currency</th><th>ProductName</th><th>ProductCategory</th><th>BaseCurrency</th><th>ExchangeRate</th><th>SaleAmountUSD</th></tr></thead><tbody><tr><td>1002</td><td>P72</td><td>0.0</td><td>2023-05-01</td><td>West</td><td>C101</td><td>null</td><td>EUR</td><td>Laptop Backpack</td><td>Accessories</td><td>EUR</td><td>1.17</td><td>0.0</td></tr><tr><td>1013</td><td>P72</td><td>175.5</td><td>2023-06-03</td><td>West</td><td>C111</td><td>0.1</td><td>EUR</td><td>Laptop Backpack</td><td>Accessories</td><td>EUR</td><td>1.17</td><td>205.33</td></tr><tr><td>1014</td><td>P23</td><td>0.0</td><td>2023-07-01</td><td>East</td><td>C112</td><td>0.0</td><td>EUR</td><td>Laptop Stand</td><td>Accessories</td><td>EUR</td><td>1.17</td><td>0.0</td></tr><tr><td>1018</td><td>P23</td><td>105.0</td><td>2023-07-08</td><td>South</td><td>C116</td><td>0.05</td><td>EUR</td><td>Laptop Stand</td><td>Accessories</td><td>EUR</td><td>1.17</td><td>122.85</td></tr><tr><td>1001</td><td>P50</td><td>299.99</td><td>2023-05-01</td><td>East</td><td>C100</td><td>0.1</td><td>USD</td><td>Wireless Mouse</td><td>Electronics</td><td>USD</td><td>1.0</td><td>299.99</td></tr><tr><td>1005</td><td>PX1</td><td>89.5</td><td>2023-07-01</td><td>North</td><td>null</td><td>0.0</td><td>USD</td><td>null</td><td>null</td><td>USD</td><td>1.0</td><td>89.5</td></tr><tr><td>1008</td><td>P88</td><td>300.0</td><td>2023-05-02</td><td>North</td><td>C106</td><td>0.0</td><td>USD</td><td>Monitor Stand</td><td>Office Supplies</td><td>USD</td><td>1.0</td><td>300.0</td></tr><tr><td>1009</td><td>P77</td><td>0.0</td><td>2023-05-03</td><td>South</td><td>C107</td><td>null</td><td>USD</td><td>Portable Speaker</td><td>Electronics</td><td>USD</td><td>1.0</td><td>0.0</td></tr><tr><td>1010</td><td>P45</td><td>450.0</td><td>2023-05-05</td><td>West</td><td>C108</td><td>0.05</td><td>USD</td><td>Smartphone Charger</td><td>Electronics</td><td>USD</td><td>1.0</td><td>450.0</td></tr><tr><td>1011</td><td>P11</td><td>250.0</td><td>2023-06-01</td><td>North</td><td>C109</td><td>0.15</td><td>USD</td><td>Pen Set</td><td>Office Supplies</td><td>USD</td><td>1.0</td><td>250.0</td></tr><tr><td>1015</td><td>P99</td><td>-25.0</td><td>2023-07-05</td><td>South</td><td>C113</td><td>0.2</td><td>USD</td><td>USB Hub</td><td>Electronics</td><td>USD</td><td>1.0</td><td>-25.0</td></tr><tr><td>1016</td><td>P88</td><td>300.0</td><td>2023-07-06</td><td>North</td><td>C114</td><td>0.1</td><td>USD</td><td>Monitor Stand</td><td>Office Supplies</td><td>USD</td><td>1.0</td><td>300.0</td></tr><tr><td>1019</td><td>P72</td><td>140.0</td><td>2023-07-09</td><td>West</td><td>C117</td><td>0.15</td><td>USD</td><td>Laptop Backpack</td><td>Accessories</td><td>USD</td><td>1.0</td><td>140.0</td></tr><tr><td>1003</td><td>P50</td><td>-10.0</td><td>2023-06-01</td><td>East</td><td>C100</td><td>0.05</td><td>GBP</td><td>Wireless Mouse</td><td>Electronics</td><td>GBP</td><td>1.34</td><td>-13.4</td></tr><tr><td>1007</td><td>P12</td><td>120.0</td><td>2023-05-01</td><td>East</td><td>C105</td><td>0.1</td><td>GBP</td><td>Notebook Stationery</td><td>Office Supplies</td><td>GBP</td><td>1.34</td><td>160.8</td></tr><tr><td>1012</td><td>P66</td><td>210.0</td><td>2023-06-02</td><td>East</td><td>C110</td><td>null</td><td>GBP</td><td>Wireless Keyboard</td><td>Electronics</td><td>GBP</td><td>1.34</td><td>281.4</td></tr><tr><td>1017</td><td>P50</td><td>215.0</td><td>2023-07-07</td><td>East</td><td>C115</td><td>0.0</td><td>GBP</td><td>Wireless Mouse</td><td>Electronics</td><td>GBP</td><td>1.34</td><td>288.1</td></tr><tr><td>1001</td><td>P50</td><td>299.99</td><td>2023-05-01</td><td>East</td><td>C100</td><td>0.1</td><td>USD</td><td>Wireless Mouse</td><td>Electronics</td><td>USD</td><td>1.0</td><td>299.99</td></tr><tr><td>1004</td><td>P99</td><td>150.0</td><td>null</td><td>South</td><td>C102</td><td>0.2</td><td>USD</td><td>USB Hub</td><td>Electronics</td><td>USD</td><td>1.0</td><td>150.0</td></tr><tr><td>1006</td><td>P72</td><td>200.0</td><td>null</td><td>West</td><td>C101</td><td>0.15</td><td>EUR</td><td>Laptop Backpack</td><td>Accessories</td><td>EUR</td><td>1.17</td><td>234.0</td></tr></tbody></table></div>"
      ]
     },
     "metadata": {
      "application/vnd.databricks.v1+output": {
       "addedWidgets": {},
       "aggData": [],
       "aggError": "",
       "aggOverflow": false,
       "aggSchema": [],
       "aggSeriesLimitReached": false,
       "aggType": "",
       "arguments": {},
       "columnCustomDisplayInfos": {},
       "data": [
        [
         1002,
         "P72",
         0.0,
         "2023-05-01",
         "West",
         "C101",
         null,
         "EUR",
         "Laptop Backpack",
         "Accessories",
         "EUR",
         1.17,
         0.0
        ],
        [
         1013,
         "P72",
         175.5,
         "2023-06-03",
         "West",
         "C111",
         0.1,
         "EUR",
         "Laptop Backpack",
         "Accessories",
         "EUR",
         1.17,
         205.33
        ],
        [
         1014,
         "P23",
         0.0,
         "2023-07-01",
         "East",
         "C112",
         0.0,
         "EUR",
         "Laptop Stand",
         "Accessories",
         "EUR",
         1.17,
         0.0
        ],
        [
         1018,
         "P23",
         105.0,
         "2023-07-08",
         "South",
         "C116",
         0.05,
         "EUR",
         "Laptop Stand",
         "Accessories",
         "EUR",
         1.17,
         122.85
        ],
        [
         1001,
         "P50",
         299.99,
         "2023-05-01",
         "East",
         "C100",
         0.1,
         "USD",
         "Wireless Mouse",
         "Electronics",
         "USD",
         1.0,
         299.99
        ],
        [
         1005,
         "PX1",
         89.5,
         "2023-07-01",
         "North",
         null,
         0.0,
         "USD",
         null,
         null,
         "USD",
         1.0,
         89.5
        ],
        [
         1008,
         "P88",
         300.0,
         "2023-05-02",
         "North",
         "C106",
         0.0,
         "USD",
         "Monitor Stand",
         "Office Supplies",
         "USD",
         1.0,
         300.0
        ],
        [
         1009,
         "P77",
         0.0,
         "2023-05-03",
         "South",
         "C107",
         null,
         "USD",
         "Portable Speaker",
         "Electronics",
         "USD",
         1.0,
         0.0
        ],
        [
         1010,
         "P45",
         450.0,
         "2023-05-05",
         "West",
         "C108",
         0.05,
         "USD",
         "Smartphone Charger",
         "Electronics",
         "USD",
         1.0,
         450.0
        ],
        [
         1011,
         "P11",
         250.0,
         "2023-06-01",
         "North",
         "C109",
         0.15,
         "USD",
         "Pen Set",
         "Office Supplies",
         "USD",
         1.0,
         250.0
        ],
        [
         1015,
         "P99",
         -25.0,
         "2023-07-05",
         "South",
         "C113",
         0.2,
         "USD",
         "USB Hub",
         "Electronics",
         "USD",
         1.0,
         -25.0
        ],
        [
         1016,
         "P88",
         300.0,
         "2023-07-06",
         "North",
         "C114",
         0.1,
         "USD",
         "Monitor Stand",
         "Office Supplies",
         "USD",
         1.0,
         300.0
        ],
        [
         1019,
         "P72",
         140.0,
         "2023-07-09",
         "West",
         "C117",
         0.15,
         "USD",
         "Laptop Backpack",
         "Accessories",
         "USD",
         1.0,
         140.0
        ],
        [
         1003,
         "P50",
         -10.0,
         "2023-06-01",
         "East",
         "C100",
         0.05,
         "GBP",
         "Wireless Mouse",
         "Electronics",
         "GBP",
         1.34,
         -13.4
        ],
        [
         1007,
         "P12",
         120.0,
         "2023-05-01",
         "East",
         "C105",
         0.1,
         "GBP",
         "Notebook Stationery",
         "Office Supplies",
         "GBP",
         1.34,
         160.8
        ],
        [
         1012,
         "P66",
         210.0,
         "2023-06-02",
         "East",
         "C110",
         null,
         "GBP",
         "Wireless Keyboard",
         "Electronics",
         "GBP",
         1.34,
         281.4
        ],
        [
         1017,
         "P50",
         215.0,
         "2023-07-07",
         "East",
         "C115",
         0.0,
         "GBP",
         "Wireless Mouse",
         "Electronics",
         "GBP",
         1.34,
         288.1
        ],
        [
         1001,
         "P50",
         299.99,
         "2023-05-01",
         "East",
         "C100",
         0.1,
         "USD",
         "Wireless Mouse",
         "Electronics",
         "USD",
         1.0,
         299.99
        ],
        [
         1004,
         "P99",
         150.0,
         null,
         "South",
         "C102",
         0.2,
         "USD",
         "USB Hub",
         "Electronics",
         "USD",
         1.0,
         150.0
        ],
        [
         1006,
         "P72",
         200.0,
         null,
         "West",
         "C101",
         0.15,
         "EUR",
         "Laptop Backpack",
         "Accessories",
         "EUR",
         1.17,
         234.0
        ]
       ],
       "datasetInfos": [
        {
         "name": "_sqldf",
         "schema": {
          "fields": [
           {
            "metadata": {},
            "name": "OrderID",
            "nullable": true,
            "type": "integer"
           },
           {
            "metadata": {},
            "name": "ProductID",
            "nullable": true,
            "type": "string"
           },
           {
            "metadata": {},
            "name": "SaleAmount",
            "nullable": true,
            "type": "double"
           },
           {
            "metadata": {},
            "name": "OrderDate",
            "nullable": true,
            "type": "date"
           },
           {
            "metadata": {},
            "name": "Region",
            "nullable": true,
            "type": "string"
           },
           {
            "metadata": {},
            "name": "CustomerID",
            "nullable": true,
            "type": "string"
           },
           {
            "metadata": {},
            "name": "Discount",
            "nullable": true,
            "type": "double"
           },
           {
            "metadata": {},
            "name": "Currency",
            "nullable": true,
            "type": "string"
           },
           {
            "metadata": {},
            "name": "ProductName",
            "nullable": true,
            "type": "string"
           },
           {
            "metadata": {},
            "name": "ProductCategory",
            "nullable": true,
            "type": "string"
           },
           {
            "metadata": {},
            "name": "BaseCurrency",
            "nullable": true,
            "type": "string"
           },
           {
            "metadata": {},
            "name": "ExchangeRate",
            "nullable": true,
            "type": "double"
           },
           {
            "metadata": {},
            "name": "SaleAmountUSD",
            "nullable": true,
            "type": "double"
           }
          ],
          "type": "struct"
         },
         "tableIdentifier": null,
         "typeStr": "pyspark.sql.connect.dataframe.DataFrame"
        }
       ],
       "dbfsResultPath": null,
       "isJsonSchema": true,
       "metadata": {
        "createTempViewForImplicitDf": true,
        "dataframeName": "_sqldf",
        "executionCount": 166
       },
       "overflow": false,
       "plotOptions": {
        "customPlotOptions": {},
        "displayType": "table",
        "pivotAggregation": null,
        "pivotColumns": null,
        "xColumns": null,
        "yColumns": null
       },
       "removedWidgets": [],
       "schema": [
        {
         "metadata": "{}",
         "name": "OrderID",
         "type": "\"integer\""
        },
        {
         "metadata": "{}",
         "name": "ProductID",
         "type": "\"string\""
        },
        {
         "metadata": "{}",
         "name": "SaleAmount",
         "type": "\"double\""
        },
        {
         "metadata": "{}",
         "name": "OrderDate",
         "type": "\"date\""
        },
        {
         "metadata": "{}",
         "name": "Region",
         "type": "\"string\""
        },
        {
         "metadata": "{}",
         "name": "CustomerID",
         "type": "\"string\""
        },
        {
         "metadata": "{}",
         "name": "Discount",
         "type": "\"double\""
        },
        {
         "metadata": "{}",
         "name": "Currency",
         "type": "\"string\""
        },
        {
         "metadata": "{}",
         "name": "ProductName",
         "type": "\"string\""
        },
        {
         "metadata": "{}",
         "name": "ProductCategory",
         "type": "\"string\""
        },
        {
         "metadata": "{}",
         "name": "BaseCurrency",
         "type": "\"string\""
        },
        {
         "metadata": "{}",
         "name": "ExchangeRate",
         "type": "\"double\""
        },
        {
         "metadata": "{}",
         "name": "SaleAmountUSD",
         "type": "\"double\""
        }
       ],
       "type": "table"
      }
     },
     "output_type": "display_data"
    }
   ],
   "source": [
    "%sql\n",
    "\n",
    "SELECT * FROM main.sales_data.sales_cleaned\n",
    "UNION ALL\n",
    "SELECT * FROM main.sales_data.sales_rejected\n",
    "\n"
   ]
  }
 ],
 "metadata": {
  "application/vnd.databricks.v1+notebook": {
   "computePreferences": null,
   "dashboards": [],
   "environmentMetadata": {
    "base_environment": "",
    "environment_version": "2"
   },
   "inputWidgetPreferences": null,
   "language": "python",
   "notebookMetadata": {
    "mostRecentlyExecutedCommandWithImplicitDF": {
     "commandId": 7415179018646922,
     "dataframes": [
      "_sqldf"
     ]
    },
    "pythonIndentUnit": 4
   },
   "notebookName": "Load Sales,Product,Exchange Rate Data",
   "widgets": {}
  },
  "language_info": {
   "name": "python"
  }
 },
 "nbformat": 4,
 "nbformat_minor": 0
}